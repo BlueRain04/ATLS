{
 "cells": [
  {
   "cell_type": "code",
   "execution_count": null,
   "id": "accd093a",
   "metadata": {},
   "outputs": [],
   "source": [
    "from os.path import dirname, basename, isfile, join\n",
    "import glob\n",
    "\n",
    "modules = glob.glob(join(dirname(__file__), \"*.py\"))\n",
    "__all__ = [basename(f)[:-3] for f in modules if isfile(f) and not f.endswith('__init__.py')]\n"
   ]
  }
 ],
 "metadata": {},
 "nbformat": 4,
 "nbformat_minor": 5
}
