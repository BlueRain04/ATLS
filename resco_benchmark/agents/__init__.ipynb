{
 "cells": [
  {
   "cell_type": "code",
   "execution_count": null,
   "id": "f890d58c",
   "metadata": {},
   "outputs": [],
   "source": [
    "from os.path import dirname, basename, isfile, join\n",
    "import glob\n",
    "modules = glob.glob(join(dirname(__file__), \"*.py\"))\n",
    "__all__ = [ basename(f)[:-3] for f in modules if isfile(f) and not f.endswith('__init__.py')]"
   ]
  }
 ],
 "metadata": {},
 "nbformat": 4,
 "nbformat_minor": 5
}
