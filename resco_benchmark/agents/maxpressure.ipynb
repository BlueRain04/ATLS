{
 "cells": [
  {
   "cell_type": "code",
   "execution_count": null,
   "id": "91480d1a",
   "metadata": {},
   "outputs": [],
   "source": [
    "from resco_benchmark.agents.agent import SharedAgent\n",
    "from resco_benchmark.agents.maxwave import WaveAgent\n",
    "from resco_benchmark.config.signal_config import signal_configs\n",
    "\n",
    "\n",
    "class MAXPRESSURE(SharedAgent):\n",
    "    def __init__(self, config, obs_act, map_name, thread_number):\n",
    "        super().__init__(config, obs_act, map_name, thread_number)\n",
    "        self.valid_acts = signal_configs[map_name]['valid_acts']\n",
    "        self.agent = MaxAgent(signal_configs[map_name]['phase_pairs'])\n",
    "\n",
    "\n",
    "class MaxAgent(WaveAgent):\n",
    "    def act(self, observation, valid_acts=None, reverse_valid=None):\n",
    "        repacked_obs = []\n",
    "        for obs in observation:\n",
    "            repacked_obs.append(obs[1:])\n",
    "        return super().act(repacked_obs, valid_acts, reverse_valid)\n"
   ]
  }
 ],
 "metadata": {},
 "nbformat": 4,
 "nbformat_minor": 5
}
