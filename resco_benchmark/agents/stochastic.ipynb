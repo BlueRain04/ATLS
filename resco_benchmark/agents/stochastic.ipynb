{
 "cells": [
  {
   "cell_type": "code",
   "execution_count": null,
   "id": "70e547bd",
   "metadata": {},
   "outputs": [],
   "source": [
    "from resco_benchmark.agents.agent import IndependentAgent, Agent\n",
    "import random\n",
    "\n",
    "\n",
    "class STOCHASTIC(IndependentAgent):\n",
    "    def __init__(self, config, obs_act, map_name, thread_number):\n",
    "        super().__init__(config, obs_act, map_name, thread_number)\n",
    "        for key in obs_act:\n",
    "            act_space = obs_act[key][1]\n",
    "            self.agents[key] = STOCHASTICAgent(act_space)\n",
    "\n",
    "\n",
    "class STOCHASTICAgent(Agent):\n",
    "    def __init__(self, num_actions):\n",
    "        super().__init__()\n",
    "        self.num_actions = num_actions\n",
    "\n",
    "    def act(self, observation):\n",
    "        return random.randint(0, self.num_actions-1)\n",
    "\n",
    "    def observe(self, observation, reward, done, info):\n",
    "        pass\n"
   ]
  }
 ],
 "metadata": {},
 "nbformat": 4,
 "nbformat_minor": 5
}
